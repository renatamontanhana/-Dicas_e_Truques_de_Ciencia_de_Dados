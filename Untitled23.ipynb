{
  "nbformat": 4,
  "nbformat_minor": 0,
  "metadata": {
    "colab": {
      "provenance": [],
      "authorship_tag": "ABX9TyPpdVAwg3G6bDwkpfPYiZhL",
      "include_colab_link": true
    },
    "kernelspec": {
      "name": "python3",
      "display_name": "Python 3"
    },
    "language_info": {
      "name": "python"
    }
  },
  "cells": [
    {
      "cell_type": "markdown",
      "metadata": {
        "id": "view-in-github",
        "colab_type": "text"
      },
      "source": [
        "<a href=\"https://colab.research.google.com/github/renatamontanhana/-Dicas_e_Truques_de_Ciencia_de_Dados/blob/main/Untitled23.ipynb\" target=\"_parent\"><img src=\"https://colab.research.google.com/assets/colab-badge.svg\" alt=\"Open In Colab\"/></a>"
      ]
    },
    {
      "cell_type": "code",
      "execution_count": null,
      "metadata": {
        "id": "Z3-qSdXpK8LW",
        "outputId": "91844720-eab1-4324-b529-cd8d40676e34",
        "colab": {
          "base_uri": "https://localhost:8080/",
          "height": 485
        }
      },
      "outputs": [
        {
          "output_type": "stream",
          "name": "stderr",
          "text": [
            "<ipython-input-1-3eed6f4237eb>:24: MatplotlibDeprecationWarning: Setting data with a non sequence type is deprecated since 3.7 and will be remove two minor releases later\n",
            "  planets.set_data(x, y)\n"
          ]
        },
        {
          "output_type": "display_data",
          "data": {
            "text/plain": [
              "<Figure size 640x480 with 1 Axes>"
            ],
            "image/png": "[encoded data removed]"
          },
          "metadata": {}
        }
      ],
      "source": [
        "import numpy as np\n",
        "import matplotlib.pyplot as plt\n",
        "from matplotlib.animation import FuncAnimation\n",
        "\n",
        "# Função para calcular os pontos da espiral de Fibonacci\n",
        "def fibonacci_spiral(n_points):\n",
        "    a, b = 0, 1\n",
        "    points = [(0, 0)]\n",
        "    for _ in range(n_points):\n",
        "        a, b = b, a + b\n",
        "        points.append((a, b))\n",
        "    return np.array(points)\n",
        "\n",
        "# Função para inicializar a animação\n",
        "def init():\n",
        "    line.set_data([], [])\n",
        "    planets.set_data([], [])\n",
        "    return line, planets\n",
        "\n",
        "# Função para atualizar a animação a cada quadro\n",
        "def update(frame):\n",
        "    x, y = fib_points[frame]\n",
        "    line.set_data(fib_points[:frame, 0], fib_points[:frame, 1])\n",
        "    planets.set_data(x, y)\n",
        "    return line, planets\n",
        "\n",
        "# Parâmetros da animação\n",
        "n_frames = 100\n",
        "fib_points = fibonacci_spiral(n_frames)\n",
        "\n",
        "# Configuração da figura\n",
        "fig, ax = plt.subplots()\n",
        "ax.set_aspect('equal', 'box')\n",
        "ax.set_xlim(-50, 50)\n",
        "ax.set_ylim(-50, 50)\n",
        "\n",
        "# Desenha a espiral de Fibonacci\n",
        "line, = ax.plot([], [], 'b-')\n",
        "\n",
        "# Desenha os planetas\n",
        "planets, = ax.plot([], [], 'ro', markersize=10)\n",
        "\n",
        "# Cria a animação\n",
        "ani = FuncAnimation(fig, update, frames=n_frames, init_func=init, blit=True)\n",
        "\n",
        "# Salva a animação como um arquivo de vídeo\n",
        "ani.save('fibonacci_spiral.mp4', fps=10)\n",
        "\n",
        "# Exibe a animação\n",
        "plt.show()\n"
      ]
    }
  ]
}