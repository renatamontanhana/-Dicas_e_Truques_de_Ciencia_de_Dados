{
  "nbformat": 4,
  "nbformat_minor": 0,
  "metadata": {
    "colab": {
      "provenance": [],
      "include_colab_link": true
    },
    "kernelspec": {
      "name": "python3",
      "display_name": "Python 3"
    }
  },
  "cells": [
    {
      "cell_type": "markdown",
      "metadata": {
        "id": "view-in-github",
        "colab_type": "text"
      },
      "source": [
        "<a href=\"https://colab.research.google.com/github/renatamontanhana/-Dicas_e_Truques_de_Ciencia_de_Dados/blob/main/Amostragem_Resampling_Treino_e_Teste.ipynb\" target=\"_parent\"><img src=\"https://colab.research.google.com/assets/colab-badge.svg\" alt=\"Open In Colab\"/></a>"
      ]
    },
    {
      "cell_type": "markdown",
      "metadata": {
        "id": "7sWA2GsxM2l-"
      },
      "source": [
        "![alt text](https://encrypted-tbn0.gstatic.com/images?q=tbn%3AANd9GcTK4gQ9nhwHHaSXMHpeggWg7twwMCgb877smkRmtkmDeDoGF9Z6&usqp=CAU)"
      ]
    },
    {
      "cell_type": "markdown",
      "metadata": {
        "id": "7oiQVQi0AJ6D"
      },
      "source": [
        "# <font color='BLUE'>Cientista de Dados na Prática </font>\n",
        "\n",
        "# <font color='Green'>SNA - Sistema de Navegação Ativa</font>\n",
        "\n",
        "### Seu objetivo neste Script é entender como vc pode fazer a amostragem dos dados, ou seja, a divisão dos dados em treino e teste.\n",
        "\n",
        "\n",
        "\n",
        "\n"
      ]
    },
    {
      "cell_type": "markdown",
      "metadata": {
        "id": "WtpPphwWS7Tk"
      },
      "source": [
        "# Amostragem - Resampling"
      ]
    },
    {
      "cell_type": "markdown",
      "metadata": {
        "id": "Q2AXdTbVS7Tm"
      },
      "source": [
        "### Dados de Treino e de Teste"
      ]
    },
    {
      "cell_type": "markdown",
      "metadata": {
        "id": "iPlEqkZDS7Tn"
      },
      "source": [
        "https://scikit-learn.org/stable/modules/generated/sklearn.model_selection.train_test_split.html"
      ]
    },
    {
      "cell_type": "markdown",
      "metadata": {
        "id": "aLTccuZNS7Tn"
      },
      "source": [
        "Este é o método mais utilizado para avaliar performance de um algoritmo de Machine Learning. Dividimos nossos dados originais em dados de treino e de teste. Treinamos o algoritmo nos dados de treino e fazemos as previsões nos dados de teste e avaliamos o resultado. A divisão dos dados vai depender do seu dataset, mas utiliza-se com frequência tamanhos entre 70/30 (treino/teste) e 65/35 (treino/teste)."
      ]
    },
    {
      "cell_type": "markdown",
      "metadata": {
        "id": "SkZ0WWdUS7Tn"
      },
      "source": [
        "Este método é bem veloz e ideal para conjuntos de dados muito grandes. O ponto negativo é a possibilidade de alta variância."
      ]
    },
    {
      "cell_type": "code",
      "metadata": {
        "id": "it-bYGG8S7Tp"
      },
      "source": [
        "# Avaliação usando dados de treino e de teste\n",
        "\n",
        "# Import dos módulos\n",
        "from pandas import read_csv\n",
        "from sklearn.model_selection import train_test_split\n",
        "from sklearn.linear_model import LogisticRegression\n",
        "import warnings\n",
        "warnings.filterwarnings('ignore')\n",
        "\n",
        "# Carregando os dados\n",
        "arquivo = 'pima-data.csv'\n",
        "colunas = ['preg', 'plas', 'pres', 'skin', 'test', 'mass', 'pedi', 'age', 'class']\n",
        "dados = read_csv(arquivo, names = colunas)\n",
        "array = dados.values\n",
        "\n",
        "# Separando o array em componentes de input e output\n",
        "X = array[:,0:8]\n",
        "Y = array[:,8]\n",
        "\n"
      ],
      "execution_count": null,
      "outputs": []
    },
    {
      "cell_type": "markdown",
      "metadata": {
        "id": "6695HUX2MALG"
      },
      "source": [
        "# Separação dos Dados em Treino e teste\n",
        "## ==> Treino para a Máquina Aprender com os dados\n",
        "## ==> Teste para a Máquina avaliar se ela realmente aprendeu\n",
        "\n",
        "![](https://upload.wikimedia.org/wikipedia/commons/2/22/Eqn_balance_multiplication_division.gif)"
      ]
    },
    {
      "cell_type": "code",
      "metadata": {
        "id": "lml2m9krL8o1"
      },
      "source": [
        "# Definindo o tamanho das amostras\n",
        "teste_size = 0.33\n",
        "\n",
        "# Garante que os resultados podem ser reproduzidos\n",
        "# Isso é importante para comparar a acurácia com outros algoritmos de Machine Learning.\n",
        "seed = 7\n",
        "\n",
        "# Criando os conjuntos de dados de treino e de teste\n",
        "X_treino, X_teste, Y_treino, Y_teste = train_test_split(X, Y, test_size = teste_size, random_state = seed)\n",
        "\n"
      ],
      "execution_count": null,
      "outputs": []
    },
    {
      "cell_type": "code",
      "metadata": {
        "id": "oj7YRwgeL-zc"
      },
      "source": [
        "# Criação do modelo\n",
        "modelo = LogisticRegression()\n",
        "\n",
        "# Treinamento do modelo\n",
        "modelo.fit(X_treino, Y_treino)\n",
        "\n",
        "# Score do modelo nos dados de teste\n",
        "result = modelo.score(X_teste, Y_teste)\n",
        "print(\"Acurácia nos Dados de Teste: %.3f%%\" % (result * 100.0))"
      ],
      "execution_count": null,
      "outputs": []
    }
  ]
}